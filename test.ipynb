{
 "cells": [
  {
   "cell_type": "code",
   "execution_count": 1,
   "metadata": {},
   "outputs": [],
   "source": [
    "def heappop(pq):\n",
    "    \"\"\"\n",
    "    Removes and returns the smallest element from the heap represented by pq.\n",
    "    \"\"\"\n",
    "    if len(pq) == 1:\n",
    "        return pq.pop()\n",
    "    else:\n",
    "        min_val = pq[0]\n",
    "        pq[0] = pq.pop()\n",
    "        heapify_down(pq, 0)\n",
    "        return min_val\n",
    "\n",
    "\n",
    "def heappush(pq, item):\n",
    "    \"\"\"\n",
    "    Pushes an item onto the heap represented by pq.\n",
    "    \"\"\"\n",
    "    pq.append(item)\n",
    "    heapify_up(pq, len(pq) - 1)\n",
    "\n",
    "\n",
    "def heapify_down(pq, i):\n",
    "    \"\"\"\n",
    "    Restores the heap property starting from the element at index i and\n",
    "    moving down the heap.\n",
    "    \"\"\"\n",
    "    left_child_idx = 2 * i + 1\n",
    "    right_child_idx = 2 * i + 2\n",
    "    smallest_child_idx = i\n",
    "    if left_child_idx < len(pq) and pq[left_child_idx][0] < pq[smallest_child_idx][0]:\n",
    "        smallest_child_idx = left_child_idx\n",
    "    if right_child_idx < len(pq) and pq[right_child_idx][0] < pq[smallest_child_idx][0]:\n",
    "        smallest_child_idx = right_child_idx\n",
    "    if smallest_child_idx != i:\n",
    "        pq[i], pq[smallest_child_idx] = pq[smallest_child_idx], pq[i]\n",
    "        heapify_down(pq, smallest_child_idx)\n",
    "\n",
    "\n",
    "def heapify_up(pq, i):\n",
    "    \"\"\"\n",
    "    Restores the heap property starting from the element at index i and\n",
    "    moving up the heap.\n",
    "    \"\"\"\n",
    "    parent_idx = (i - 1) // 2\n",
    "    if parent_idx >= 0 and pq[i][0] < pq[parent_idx][0]:\n",
    "        pq[i], pq[parent_idx] = pq[parent_idx], pq[i]\n",
    "        heapify_up(pq, parent_idx)\n"
   ]
  },
  {
   "cell_type": "code",
   "execution_count": 5,
   "metadata": {},
   "outputs": [],
   "source": [
    "pq = [(0, 1), (1, 2), (2, 3), (3, 4), (4, 5)]"
   ]
  },
  {
   "cell_type": "code",
   "execution_count": 6,
   "metadata": {},
   "outputs": [
    {
     "data": {
      "text/plain": [
       "(0, 1)"
      ]
     },
     "execution_count": 6,
     "metadata": {},
     "output_type": "execute_result"
    }
   ],
   "source": [
    "min = heappop(pq)\n",
    "min"
   ]
  },
  {
   "cell_type": "code",
   "execution_count": null,
   "metadata": {},
   "outputs": [],
   "source": []
  }
 ],
 "metadata": {
  "kernelspec": {
   "display_name": "Python 3.10.7 64-bit",
   "language": "python",
   "name": "python3"
  },
  "language_info": {
   "codemirror_mode": {
    "name": "ipython",
    "version": 3
   },
   "file_extension": ".py",
   "mimetype": "text/x-python",
   "name": "python",
   "nbconvert_exporter": "python",
   "pygments_lexer": "ipython3",
   "version": "3.10.7"
  },
  "orig_nbformat": 4,
  "vscode": {
   "interpreter": {
    "hash": "aee8b7b246df8f9039afb4144a1f6fd8d2ca17a180786b69acc140d282b71a49"
   }
  }
 },
 "nbformat": 4,
 "nbformat_minor": 2
}
